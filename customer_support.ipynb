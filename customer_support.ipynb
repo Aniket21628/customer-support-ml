{
  "nbformat": 4,
  "nbformat_minor": 0,
  "metadata": {
    "colab": {
      "provenance": [],
      "mount_file_id": "1ZfyW0H_fKoo549ZSHpPo-rzvRrlEGXR5",
      "authorship_tag": "ABX9TyPFHA3IAByhanjVd/WaHCZy",
      "include_colab_link": true
    },
    "kernelspec": {
      "name": "python3",
      "display_name": "Python 3"
    },
    "language_info": {
      "name": "python"
    }
  },
  "cells": [
    {
      "cell_type": "markdown",
      "metadata": {
        "id": "view-in-github",
        "colab_type": "text"
      },
      "source": [
        "<a href=\"https://colab.research.google.com/github/Aniket21628/customer-support-ml/blob/main/customer_support.ipynb\" target=\"_parent\"><img src=\"https://colab.research.google.com/assets/colab-badge.svg\" alt=\"Open In Colab\"/></a>"
      ]
    },
    {
      "cell_type": "code",
      "execution_count": null,
      "metadata": {
        "id": "gqJCBHwD4W-V"
      },
      "outputs": [],
      "source": [
        "import pandas as pd\n",
        "import numpy as np\n",
        "from sklearn.feature_extraction.text import CountVectorizer\n",
        "from sklearn.model_selection import train_test_split\n",
        "from sklearn.naive_bayes import MultinomialNB\n",
        "from sklearn.linear_model import SGDClassifier\n",
        "import nltk\n",
        "import re\n",
        "from nltk.corpus import stopwords\n",
        "import string"
      ]
    },
    {
      "cell_type": "code",
      "source": [
        "data = pd.read_csv(\"/content/drive/MyDrive/Colab Notebooks/consumercomplaints.csv\")"
      ],
      "metadata": {
        "id": "m0DVeALP7fyN"
      },
      "execution_count": null,
      "outputs": []
    },
    {
      "cell_type": "code",
      "source": [
        "print(data.head())"
      ],
      "metadata": {
        "colab": {
          "base_uri": "https://localhost:8080/"
        },
        "id": "rboRkU3C8R86",
        "outputId": "d06ce419-502a-4700-cdff-1af3aa6467af"
      },
      "execution_count": null,
      "outputs": [
        {
          "output_type": "stream",
          "name": "stdout",
          "text": [
            "   Unnamed: 0 Date received  \\\n",
            "0           0    2022-11-11   \n",
            "1           1    2022-11-23   \n",
            "2           2    2022-11-16   \n",
            "3           3    2022-11-15   \n",
            "4           4    2022-11-07   \n",
            "\n",
            "                                             Product  \\\n",
            "0                                           Mortgage   \n",
            "1  Credit reporting, credit repair services, or o...   \n",
            "2                                           Mortgage   \n",
            "3                        Checking or savings account   \n",
            "4                                           Mortgage   \n",
            "\n",
            "                  Sub-product                           Issue  \\\n",
            "0  Conventional home mortgage  Trouble during payment process   \n",
            "1            Credit reporting     Improper use of your report   \n",
            "2                 VA mortgage  Trouble during payment process   \n",
            "3            Checking account             Managing an account   \n",
            "4      Other type of mortgage  Trouble during payment process   \n",
            "\n",
            "                                       Sub-issue  \\\n",
            "0                                            NaN   \n",
            "1  Reporting company used your report improperly   \n",
            "2                                            NaN   \n",
            "3                                    Fee problem   \n",
            "4                                            NaN   \n",
            "\n",
            "                        Consumer complaint narrative  \n",
            "0                                                NaN  \n",
            "1                                                NaN  \n",
            "2                                                NaN  \n",
            "3  Hi, I have been banking with Wells Fargo for o...  \n",
            "4                                                NaN  \n"
          ]
        }
      ]
    },
    {
      "cell_type": "code",
      "source": [
        "data = data.drop(\"Unnamed: 0\", axis=1)"
      ],
      "metadata": {
        "id": "45dQd4RF8ywS"
      },
      "execution_count": null,
      "outputs": []
    },
    {
      "cell_type": "code",
      "source": [
        "print(data.isnull().sum())"
      ],
      "metadata": {
        "colab": {
          "base_uri": "https://localhost:8080/"
        },
        "id": "RtV6DHhs9GCg",
        "outputId": "a1487f10-31a5-4f8d-b5e4-50468aeb015b"
      },
      "execution_count": null,
      "outputs": [
        {
          "output_type": "stream",
          "name": "stdout",
          "text": [
            "Date received                         0\n",
            "Product                               0\n",
            "Sub-product                      235294\n",
            "Issue                                 0\n",
            "Sub-issue                        683355\n",
            "Consumer complaint narrative    1987977\n",
            "dtype: int64\n"
          ]
        }
      ]
    },
    {
      "cell_type": "code",
      "source": [],
      "metadata": {
        "id": "R0aozFVI9QMI"
      },
      "execution_count": null,
      "outputs": []
    }
  ]
}