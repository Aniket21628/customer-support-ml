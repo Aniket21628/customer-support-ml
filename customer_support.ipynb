{
  "nbformat": 4,
  "nbformat_minor": 0,
  "metadata": {
    "colab": {
      "provenance": [],
      "mount_file_id": "1ZfyW0H_fKoo549ZSHpPo-rzvRrlEGXR5",
      "authorship_tag": "ABX9TyMERtnsxfEJp0k61kOv9Da+",
      "include_colab_link": true
    },
    "kernelspec": {
      "name": "python3",
      "display_name": "Python 3"
    },
    "language_info": {
      "name": "python"
    }
  },
  "cells": [
    {
      "cell_type": "markdown",
      "metadata": {
        "id": "view-in-github",
        "colab_type": "text"
      },
      "source": [
        "<a href=\"https://colab.research.google.com/github/Aniket21628/customer-support-ml/blob/main/customer_support.ipynb\" target=\"_parent\"><img src=\"https://colab.research.google.com/assets/colab-badge.svg\" alt=\"Open In Colab\"/></a>"
      ]
    },
    {
      "cell_type": "code",
      "execution_count": null,
      "metadata": {
        "id": "gqJCBHwD4W-V"
      },
      "outputs": [],
      "source": [
        "import pandas as pd\n",
        "import numpy as np\n",
        "from sklearn.feature_extraction.text import CountVectorizer\n",
        "from sklearn.model_selection import train_test_split\n",
        "from sklearn.naive_bayes import MultinomialNB\n",
        "from sklearn.linear_model import SGDClassifier\n",
        "import nltk\n",
        "import re\n",
        "from nltk.corpus import stopwords\n",
        "import string"
      ]
    },
    {
      "cell_type": "code",
      "source": [
        "data = pd.read_csv(\"/content/drive/MyDrive/Colab Notebooks/consumercomplaints.csv\")"
      ],
      "metadata": {
        "id": "m0DVeALP7fyN"
      },
      "execution_count": null,
      "outputs": []
    },
    {
      "cell_type": "code",
      "source": [
        "print(data.head())"
      ],
      "metadata": {
        "colab": {
          "base_uri": "https://localhost:8080/"
        },
        "id": "rboRkU3C8R86",
        "outputId": "d06ce419-502a-4700-cdff-1af3aa6467af"
      },
      "execution_count": null,
      "outputs": [
        {
          "output_type": "stream",
          "name": "stdout",
          "text": [
            "   Unnamed: 0 Date received  \\\n",
            "0           0    2022-11-11   \n",
            "1           1    2022-11-23   \n",
            "2           2    2022-11-16   \n",
            "3           3    2022-11-15   \n",
            "4           4    2022-11-07   \n",
            "\n",
            "                                             Product  \\\n",
            "0                                           Mortgage   \n",
            "1  Credit reporting, credit repair services, or o...   \n",
            "2                                           Mortgage   \n",
            "3                        Checking or savings account   \n",
            "4                                           Mortgage   \n",
            "\n",
            "                  Sub-product                           Issue  \\\n",
            "0  Conventional home mortgage  Trouble during payment process   \n",
            "1            Credit reporting     Improper use of your report   \n",
            "2                 VA mortgage  Trouble during payment process   \n",
            "3            Checking account             Managing an account   \n",
            "4      Other type of mortgage  Trouble during payment process   \n",
            "\n",
            "                                       Sub-issue  \\\n",
            "0                                            NaN   \n",
            "1  Reporting company used your report improperly   \n",
            "2                                            NaN   \n",
            "3                                    Fee problem   \n",
            "4                                            NaN   \n",
            "\n",
            "                        Consumer complaint narrative  \n",
            "0                                                NaN  \n",
            "1                                                NaN  \n",
            "2                                                NaN  \n",
            "3  Hi, I have been banking with Wells Fargo for o...  \n",
            "4                                                NaN  \n"
          ]
        }
      ]
    },
    {
      "cell_type": "code",
      "source": [
        "data = data.drop(\"Unnamed: 0\", axis=1)"
      ],
      "metadata": {
        "id": "45dQd4RF8ywS"
      },
      "execution_count": null,
      "outputs": []
    },
    {
      "cell_type": "code",
      "source": [
        "print(data.isnull().sum())"
      ],
      "metadata": {
        "colab": {
          "base_uri": "https://localhost:8080/"
        },
        "id": "RtV6DHhs9GCg",
        "outputId": "a1487f10-31a5-4f8d-b5e4-50468aeb015b"
      },
      "execution_count": null,
      "outputs": [
        {
          "output_type": "stream",
          "name": "stdout",
          "text": [
            "Date received                         0\n",
            "Product                               0\n",
            "Sub-product                      235294\n",
            "Issue                                 0\n",
            "Sub-issue                        683355\n",
            "Consumer complaint narrative    1987977\n",
            "dtype: int64\n"
          ]
        }
      ]
    },
    {
      "cell_type": "code",
      "source": [
        "data = data.dropna()"
      ],
      "metadata": {
        "id": "R0aozFVI9QMI"
      },
      "execution_count": 8,
      "outputs": []
    },
    {
      "cell_type": "code",
      "source": [
        "print(data[\"Product\"].value_counts())"
      ],
      "metadata": {
        "colab": {
          "base_uri": "https://localhost:8080/"
        },
        "id": "L3hsiksyCUY0",
        "outputId": "23e87919-0bfa-42a6-a313-3b61d1f43dcb"
      },
      "execution_count": 9,
      "outputs": [
        {
          "output_type": "stream",
          "name": "stdout",
          "text": [
            "Product\n",
            "Credit reporting, credit repair services, or other personal consumer reports    507582\n",
            "Debt collection                                                                 192045\n",
            "Credit card or prepaid card                                                      80410\n",
            "Checking or savings account                                                      54192\n",
            "Student loan                                                                     32697\n",
            "Vehicle loan or lease                                                            19874\n",
            "Payday loan, title loan, or personal loan                                         1008\n",
            "Name: count, dtype: int64\n"
          ]
        }
      ]
    },
    {
      "cell_type": "code",
      "source": [
        "nltk.download('stopwords')\n",
        "stemmer = nltk.SnowballStemmer(\"english\")\n",
        "stopword=set(stopwords.words('english'))\n",
        "\n",
        "def clean(text):\n",
        "  text = str(text).lower()\n",
        "  text = re.sub('\\[.*?\\]', '', text)\n",
        "  text = re.sub('https?://\\S+|www\\.\\S+', '', text)\n",
        "  text = re.sub('<.*?>+', '', text)\n",
        "  text = re.sub('[%s]' % re.escape(string.punctuation), '', text)\n",
        "  text = re.sub('\\n', '', text)\n",
        "  text = re.sub('\\w*\\d\\w*', '', text)\n",
        "  text = [word for word in text.split(' ') if word not in stopword]\n",
        "  text=\" \".join(text)\n",
        "  text = [stemmer.stem(word) for word in text.split(' ')]\n",
        "  text=\" \".join(text)\n",
        "  return text\n",
        "data[\"Consumer complaint narrative\"] = data[\"Consumer complaint narrative\"].apply(clean)"
      ],
      "metadata": {
        "colab": {
          "base_uri": "https://localhost:8080/"
        },
        "id": "A0xvwi8BEn_n",
        "outputId": "48424cb4-6fe5-4d0d-d244-1521c1388f70"
      },
      "execution_count": null,
      "outputs": [
        {
          "output_type": "stream",
          "name": "stderr",
          "text": [
            "[nltk_data] Downloading package stopwords to /root/nltk_data...\n",
            "[nltk_data]   Unzipping corpora/stopwords.zip.\n"
          ]
        }
      ]
    },
    {
      "cell_type": "markdown",
      "source": [
        "split the data into training and test sets"
      ],
      "metadata": {
        "id": "xuMueh0YFf9G"
      }
    },
    {
      "cell_type": "code",
      "source": [
        "data = data[[\"Consumer complaint narrative\", \"Product\"]]\n",
        "x = np.array(data[\"Consumer complaint narrative\"])\n",
        "y = np.array(data[\"Product\"])\n",
        "cv = CountVectorizer()\n",
        "X = cv.fit_transform(x)\n",
        "X_train, X_test, y_train, y_test = train_test_split(X, y, test_size=0.33, random_state=42)"
      ],
      "metadata": {
        "id": "JtrtgAIEGDUI"
      },
      "execution_count": null,
      "outputs": []
    },
    {
      "cell_type": "markdown",
      "source": [
        "train the Machine Learning model using the Stochastic Gradient Descent classification algorithm"
      ],
      "metadata": {
        "id": "luHSjzr4HMHZ"
      }
    },
    {
      "cell_type": "code",
      "source": [],
      "metadata": {
        "id": "613jhDqYHNFU"
      },
      "execution_count": null,
      "outputs": []
    }
  ]
}